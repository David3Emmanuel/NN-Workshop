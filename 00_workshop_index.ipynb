{
 "cells": [
  {
   "cell_type": "markdown",
   "id": "ad6fe098",
   "metadata": {},
   "source": [
    "# Neural Networks Workshop - Index\n",
    "\n",
    "Welcome to the Neural Networks Workshop! This series of notebooks will guide you through understanding, implementing, and experimenting with neural networks.\n",
    "\n",
    "## Workshop Structure\n",
    "\n",
    "This workshop has been divided into five focused notebooks that build on each other sequentially:\n",
    "\n",
    "1. [**Introduction and Setup**](01_nn_introduction_and_setup.ipynb) - Learn the fundamentals of neural networks and set up your environment\n",
    "2. [**Neural Networks from Scratch**](02_nn_from_scratch.ipynb) - Build a neural network using only NumPy to understand core concepts\n",
    "3. [**MNIST Dataset Exploration**](03_mnist_dataset.ipynb) - Load and analyze the MNIST handwritten digits dataset\n",
    "4. [**PyTorch Implementation**](04_pytorch_implementation.ipynb) - Implement neural networks efficiently with PyTorch\n",
    "5. [**Implementation Comparison**](05_comparison.ipynb) - Compare custom and PyTorch implementations for insights\n",
    "\n",
    "## Workshop Goals\n",
    "\n",
    "By the end of this workshop, you will:\n",
    "\n",
    "- Understand the fundamental concepts behind neural networks\n",
    "- Be able to implement a basic neural network from scratch\n",
    "- Know how to use PyTorch to build and train neural networks\n",
    "- Be able to evaluate and compare different neural network implementations\n",
    "- Have practical experience with the MNIST dataset\n",
    "\n",
    "## Getting Started\n",
    "\n",
    "Click on the link to [**Introduction and Setup**](01_nn_introduction_and_setup.ipynb) to begin the workshop.\n",
    "\n",
    "## Prerequisites\n",
    "\n",
    "This workshop assumes you have:\n",
    "- Basic Python programming knowledge\n",
    "- Familiarity with basic machine learning concepts\n",
    "- The required libraries installed (PyTorch, NumPy, Matplotlib)"
   ]
  }
 ],
 "metadata": {
  "language_info": {
   "name": "python"
  }
 },
 "nbformat": 4,
 "nbformat_minor": 5
}
